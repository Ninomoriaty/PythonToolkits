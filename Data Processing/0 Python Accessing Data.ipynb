{
 "cells": [
  {
   "cell_type": "markdown",
   "source": [
    "Guideline Level\n",
    "\n",
    "<center><p style=\"font-size:50px; font-weight:bold\">\n",
    "Python Accessing the data\n",
    "</p></center>\n",
    "\n",
    "Data Types, Data Structures, Class"
   ],
   "metadata": {
    "collapsed": false
   }
  },
  {
   "cell_type": "code",
   "execution_count": null,
   "outputs": [],
   "source": [
    "# Packages\n",
    "import numpy as np\n",
    "import matplotlib.pylab as plt"
   ],
   "metadata": {
    "collapsed": false,
    "pycharm": {
     "name": "#%%\n",
     "is_executing": true
    }
   }
  },
  {
   "cell_type": "markdown",
   "metadata": {
    "collapsed": true,
    "pycharm": {
     "name": "#%% md\n"
    }
   },
   "source": [
    "# Inspect your data"
   ]
  },
  {
   "cell_type": "code",
   "execution_count": null,
   "outputs": [],
   "source": [
    "# Check the data type\n",
    "var = \"test\"\n",
    "class_var = type(var)\n",
    "\n",
    "# Check the data dimensions and length\n",
    "length_var = len(var)\n",
    "\n",
    "# print the result\n",
    "print(class_var, length_var)"
   ],
   "metadata": {
    "collapsed": false,
    "pycharm": {
     "name": "#%%\n",
     "is_executing": true
    }
   }
  },
  {
   "cell_type": "markdown",
   "source": [
    "# Data Types\n",
    "**Cc**\n",
    "1. Object: All things in the Python environment could be seen as an object\n",
    "2. Variable:\n",
    "\n",
    "## Numeric data (Integer, Float, Double and Complex (imaginary numbers))"
   ],
   "metadata": {
    "collapsed": false,
    "pycharm": {
     "name": "#%% md\n"
    }
   }
  },
  {
   "cell_type": "code",
   "source": [
    "# Integer\n",
    "var_int = 1.21\n",
    "trans_int = int(var_int)\n",
    "\n",
    "# Float / Double\n",
    "var_dec = 1.2\n",
    "trans_dec = float(trans_int)\n",
    "\n",
    "# Complex\n",
    "\n",
    "# print the result\n",
    "print(trans_int, trans_dec)"
   ],
   "metadata": {
    "collapsed": false,
    "pycharm": {
     "name": "#%%\n"
    }
   },
   "execution_count": 3,
   "outputs": [
    {
     "name": "stdout",
     "output_type": "stream",
     "text": [
      "1 1.0\n"
     ]
    }
   ]
  },
  {
   "cell_type": "markdown",
   "source": [
    "## Character data / String"
   ],
   "metadata": {
    "collapsed": false
   }
  },
  {
   "cell_type": "code",
   "execution_count": 1,
   "outputs": [
    {
     "name": "stdout",
     "output_type": "stream",
     "text": [
      "sdf sdf\n"
     ]
    }
   ],
   "source": [
    "# String\n",
    "str = 'sdf'\n",
    "\n",
    "# Link Strings\n",
    "lk_str = str+' '+str\n",
    "\n",
    "# print the result\n",
    "print(lk_str)"
   ],
   "metadata": {
    "collapsed": false,
    "pycharm": {
     "name": "#%%\n"
    }
   }
  },
  {
   "cell_type": "markdown",
   "source": [
    "## Logical data"
   ],
   "metadata": {
    "collapsed": false,
    "pycharm": {
     "name": "#%% md\n"
    }
   }
  },
  {
   "cell_type": "markdown",
   "source": [
    "## Raw (bytes).\n"
   ],
   "metadata": {
    "collapsed": false,
    "pycharm": {
     "name": "#%% md\n"
    }
   }
  },
  {
   "cell_type": "markdown",
   "source": [
    "# Data Structure"
   ],
   "metadata": {
    "collapsed": false,
    "pycharm": {
     "name": "#%% md\n"
    }
   }
  },
  {
   "cell_type": "markdown",
   "source": [
    "## Array (Vector, Matrix, Array)"
   ],
   "metadata": {
    "collapsed": false,
    "pycharm": {
     "name": "#%% md\n"
    }
   }
  },
  {
   "cell_type": "code",
   "execution_count": 16,
   "outputs": [
    {
     "name": "stdout",
     "output_type": "stream",
     "text": [
      "[[ 2  4  6  8]\n",
      " [ 4  8 10 12]]\n",
      "[[ 2  4  6  8]\n",
      " [ 4  8 10 12]]\n",
      "[[ 1  4  9 16]\n",
      " [ 2  8 15 24]\n",
      " [ 2  8 15 24]]\n",
      "[[30 49]\n",
      " [49 81]\n",
      " [49 81]]\n"
     ]
    }
   ],
   "source": [
    "# Variables\n",
    "vector = np.array([1,2,3,4])\n",
    "matrix = np.array([[1,2,3,4], [2,4,5,6]])\n",
    "array = np.array([[1,2,3,4], [2,4,5,6], [2,4,5,6]])\n",
    "\n",
    "# Matrix Calculation\n",
    "print(matrix+matrix)\n",
    "print(matrix*2)\n",
    "print(array*vector) # Tips: it is not the matrix multiplication\n",
    "print(np.matmul(array, np.matrix.transpose(matrix)) # Matrix multiplication\n",
    "\n"
   ],
   "metadata": {
    "collapsed": false,
    "pycharm": {
     "name": "#%%\n"
    }
   }
  }
 ],
 "metadata": {
  "kernelspec": {
   "display_name": "Python 3",
   "language": "python",
   "name": "python3"
  },
  "language_info": {
   "codemirror_mode": {
    "name": "ipython",
    "version": 2
   },
   "file_extension": ".py",
   "mimetype": "text/x-python",
   "name": "python",
   "nbconvert_exporter": "python",
   "pygments_lexer": "ipython2",
   "version": "2.7.6"
  }
 },
 "nbformat": 4,
 "nbformat_minor": 0
}